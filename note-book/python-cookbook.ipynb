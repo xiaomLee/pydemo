{
 "cells": [
  {
   "cell_type": "code",
   "execution_count": 19,
   "metadata": {},
   "outputs": [
    {
     "name": "stderr",
     "output_type": "stream",
     "text": [
      "enable example env will only read RomDataBu/csv\n"
     ]
    }
   ],
   "source": [
    "import os\n",
    "import sys\n",
    "# 使用insert 0即只使用github，避免交叉使用了pip安装的abupy，导致的版本不一致问题\n",
    "sys.path.insert(0, os.path.abspath('../'))\n",
    "import abupy\n",
    "abupy.env.enable_example_env_ipython()"
   ]
  },
  {
   "cell_type": "code",
   "execution_count": 20,
   "metadata": {},
   "outputs": [],
   "source": [
    "from abupy import ABuMarket"
   ]
  },
  {
   "cell_type": "code",
   "execution_count": 24,
   "metadata": {},
   "outputs": [],
   "source": [
    "#symbols = ABuMarket.all_symbol(abupy.env.EMarketTargetType.E_MARKET_TARGET_CN)\n",
    "symbols = ABuMarket.all_symbol()"
   ]
  },
  {
   "cell_type": "code",
   "execution_count": 25,
   "metadata": {},
   "outputs": [
    {
     "data": {
      "text/plain": [
       "['usGOOG',\n",
       " 'usWUBA',\n",
       " 'usTSLA',\n",
       " 'usSFUN',\n",
       " 'usBIDU',\n",
       " 'usVIPS',\n",
       " 'usAAPL',\n",
       " 'usNOAH']"
      ]
     },
     "execution_count": 25,
     "metadata": {},
     "output_type": "execute_result"
    }
   ],
   "source": [
    "len(symbols)\n",
    "symbols"
   ]
  },
  {
   "cell_type": "code",
   "execution_count": null,
   "metadata": {},
   "outputs": [],
   "source": [
    "# 一下示例参考至python3-cookbook\n",
    "# https://python3-cookbook.readthedocs.io/zh_CN/latest/c11/p01_interact_with_http_services_as_client.html"
   ]
  },
  {
   "cell_type": "code",
   "execution_count": 32,
   "metadata": {},
   "outputs": [
    {
     "name": "stdout",
     "output_type": "stream",
     "text": [
      "process name :1\n",
      "process name :0\n",
      "process name :2\n"
     ]
    }
   ],
   "source": [
    "\n",
    "from multiprocessing import Process\n",
    "import time\n",
    "\n",
    "class MyProcess(Process):\n",
    "    def __init__(self, name):\n",
    "        super(MyProcess, self).__init__()\n",
    "        self.name = name\n",
    "\n",
    "    def run(self):\n",
    "        print('process name :' + str(self.name))\n",
    "        time.sleep(1)\n",
    "for i in range(3):\n",
    "    p = MyProcess(str(i))\n",
    "    p.start()\n",
    "for i in range(3):\n",
    "    p.join()\n"
   ]
  },
  {
   "cell_type": "code",
   "execution_count": 34,
   "metadata": {},
   "outputs": [
    {
     "name": "stdout",
     "output_type": "stream",
     "text": [
      "Pipe 用法\n"
     ]
    }
   ],
   "source": [
    "from multiprocessing import Process, Pipe\n",
    " \n",
    "def show(conn):\n",
    "    conn.send('Pipe 用法')\n",
    "    conn.close()\n",
    "\n",
    "parent_conn, child_conn = Pipe() \n",
    "pro = Process(target=show, args=(child_conn,))\n",
    "pro.start()\n",
    "print(parent_conn.recv())   \n",
    "pro.join()"
   ]
  },
  {
   "cell_type": "code",
   "execution_count": 46,
   "metadata": {},
   "outputs": [
    {
     "data": {
      "text/html": [
       "<div>\n",
       "<style scoped>\n",
       "    .dataframe tbody tr th:only-of-type {\n",
       "        vertical-align: middle;\n",
       "    }\n",
       "\n",
       "    .dataframe tbody tr th {\n",
       "        vertical-align: top;\n",
       "    }\n",
       "\n",
       "    .dataframe thead th {\n",
       "        text-align: right;\n",
       "    }\n",
       "</style>\n",
       "<table border=\"1\" class=\"dataframe\">\n",
       "  <thead>\n",
       "    <tr style=\"text-align: right;\">\n",
       "      <th></th>\n",
       "      <th>date</th>\n",
       "      <th>open</th>\n",
       "      <th>high</th>\n",
       "      <th>close</th>\n",
       "      <th>low</th>\n",
       "      <th>volume</th>\n",
       "      <th>price_change</th>\n",
       "      <th>p_change</th>\n",
       "      <th>ma5</th>\n",
       "      <th>ma10</th>\n",
       "      <th>ma20</th>\n",
       "      <th>v_ma5</th>\n",
       "      <th>v_ma10</th>\n",
       "      <th>v_ma20</th>\n",
       "    </tr>\n",
       "  </thead>\n",
       "  <tbody>\n",
       "    <tr>\n",
       "      <th>2016-06-27</th>\n",
       "      <td>2016-06-27</td>\n",
       "      <td>1836.597</td>\n",
       "      <td>1927.493</td>\n",
       "      <td>1917.228</td>\n",
       "      <td>1836.597</td>\n",
       "      <td>7567979.00</td>\n",
       "      <td>65.239</td>\n",
       "      <td>3.52</td>\n",
       "      <td>1,917.228</td>\n",
       "      <td>1,917.228</td>\n",
       "      <td>1,917.228</td>\n",
       "      <td>7,567,979.00</td>\n",
       "      <td>7,567,979.00</td>\n",
       "      <td>7,567,979.00</td>\n",
       "    </tr>\n",
       "    <tr>\n",
       "      <th>2016-06-28</th>\n",
       "      <td>2016-06-28</td>\n",
       "      <td>1901.237</td>\n",
       "      <td>1914.307</td>\n",
       "      <td>1913.165</td>\n",
       "      <td>1892.912</td>\n",
       "      <td>4984852.50</td>\n",
       "      <td>-4.063</td>\n",
       "      <td>-0.21</td>\n",
       "      <td>1,915.197</td>\n",
       "      <td>1,915.197</td>\n",
       "      <td>1,915.197</td>\n",
       "      <td>6,276,415.75</td>\n",
       "      <td>6,276,415.75</td>\n",
       "      <td>6,276,415.75</td>\n",
       "    </tr>\n",
       "    <tr>\n",
       "      <th>2016-06-29</th>\n",
       "      <td>2016-06-29</td>\n",
       "      <td>1917.660</td>\n",
       "      <td>1925.447</td>\n",
       "      <td>1905.524</td>\n",
       "      <td>1895.088</td>\n",
       "      <td>4649836.50</td>\n",
       "      <td>-7.641</td>\n",
       "      <td>-0.40</td>\n",
       "      <td>1,911.972</td>\n",
       "      <td>1,911.972</td>\n",
       "      <td>1,911.972</td>\n",
       "      <td>5,734,222.67</td>\n",
       "      <td>5,734,222.67</td>\n",
       "      <td>5,734,222.67</td>\n",
       "    </tr>\n",
       "    <tr>\n",
       "      <th>2016-06-30</th>\n",
       "      <td>2016-06-30</td>\n",
       "      <td>1905.934</td>\n",
       "      <td>1910.048</td>\n",
       "      <td>1894.326</td>\n",
       "      <td>1888.861</td>\n",
       "      <td>3279508.75</td>\n",
       "      <td>-11.198</td>\n",
       "      <td>-0.59</td>\n",
       "      <td>1,907.561</td>\n",
       "      <td>1,907.561</td>\n",
       "      <td>1,907.561</td>\n",
       "      <td>5,120,544.19</td>\n",
       "      <td>5,120,544.19</td>\n",
       "      <td>5,120,544.19</td>\n",
       "    </tr>\n",
       "    <tr>\n",
       "      <th>2016-07-01</th>\n",
       "      <td>2016-07-01</td>\n",
       "      <td>1900.104</td>\n",
       "      <td>1925.546</td>\n",
       "      <td>1902.795</td>\n",
       "      <td>1897.357</td>\n",
       "      <td>3855875.75</td>\n",
       "      <td>8.469</td>\n",
       "      <td>0.45</td>\n",
       "      <td>1,906.608</td>\n",
       "      <td>1,906.608</td>\n",
       "      <td>1,906.608</td>\n",
       "      <td>4,867,610.50</td>\n",
       "      <td>4,867,610.50</td>\n",
       "      <td>4,867,610.50</td>\n",
       "    </tr>\n",
       "    <tr>\n",
       "      <th>2016-07-04</th>\n",
       "      <td>2016-07-04</td>\n",
       "      <td>1895.115</td>\n",
       "      <td>1983.733</td>\n",
       "      <td>1976.896</td>\n",
       "      <td>1895.115</td>\n",
       "      <td>8683355.00</td>\n",
       "      <td>74.101</td>\n",
       "      <td>3.89</td>\n",
       "      <td>1,918.541</td>\n",
       "      <td>1,918.322</td>\n",
       "      <td>1,918.322</td>\n",
       "      <td>5,090,685.70</td>\n",
       "      <td>5,503,567.92</td>\n",
       "      <td>5,503,567.92</td>\n",
       "    </tr>\n",
       "    <tr>\n",
       "      <th>2016-07-05</th>\n",
       "      <td>2016-07-05</td>\n",
       "      <td>1975.131</td>\n",
       "      <td>1999.930</td>\n",
       "      <td>1977.776</td>\n",
       "      <td>1971.199</td>\n",
       "      <td>7763355.50</td>\n",
       "      <td>0.880</td>\n",
       "      <td>0.04</td>\n",
       "      <td>1,931.463</td>\n",
       "      <td>1,926.816</td>\n",
       "      <td>1,926.816</td>\n",
       "      <td>5,646,386.30</td>\n",
       "      <td>5,826,394.71</td>\n",
       "      <td>5,826,394.71</td>\n",
       "    </tr>\n",
       "    <tr>\n",
       "      <th>2016-07-06</th>\n",
       "      <td>2016-07-06</td>\n",
       "      <td>1969.343</td>\n",
       "      <td>1998.659</td>\n",
       "      <td>1989.411</td>\n",
       "      <td>1954.152</td>\n",
       "      <td>5639803.00</td>\n",
       "      <td>11.635</td>\n",
       "      <td>0.59</td>\n",
       "      <td>1,948.241</td>\n",
       "      <td>1,934.640</td>\n",
       "      <td>1,934.640</td>\n",
       "      <td>5,844,379.60</td>\n",
       "      <td>5,803,070.75</td>\n",
       "      <td>5,803,070.75</td>\n",
       "    </tr>\n",
       "    <tr>\n",
       "      <th>2016-07-07</th>\n",
       "      <td>2016-07-07</td>\n",
       "      <td>1986.503</td>\n",
       "      <td>2026.332</td>\n",
       "      <td>2003.668</td>\n",
       "      <td>1984.266</td>\n",
       "      <td>7653180.50</td>\n",
       "      <td>14.257</td>\n",
       "      <td>0.72</td>\n",
       "      <td>1,970.109</td>\n",
       "      <td>1,942.310</td>\n",
       "      <td>1,942.310</td>\n",
       "      <td>6,719,113.95</td>\n",
       "      <td>6,008,638.50</td>\n",
       "      <td>6,008,638.50</td>\n",
       "    </tr>\n",
       "    <tr>\n",
       "      <th>2016-07-08</th>\n",
       "      <td>2016-07-08</td>\n",
       "      <td>1993.537</td>\n",
       "      <td>1995.319</td>\n",
       "      <td>1973.734</td>\n",
       "      <td>1968.748</td>\n",
       "      <td>4850926.00</td>\n",
       "      <td>-29.934</td>\n",
       "      <td>-1.49</td>\n",
       "      <td>1,984.297</td>\n",
       "      <td>1,945.452</td>\n",
       "      <td>1,945.452</td>\n",
       "      <td>6,918,124.00</td>\n",
       "      <td>5,892,867.25</td>\n",
       "      <td>5,892,867.25</td>\n",
       "    </tr>\n",
       "  </tbody>\n",
       "</table>\n",
       "</div>"
      ],
      "text/plain": [
       "                  date      open      high     close       low      volume  \\\n",
       "2016-06-27  2016-06-27  1836.597  1927.493  1917.228  1836.597  7567979.00   \n",
       "2016-06-28  2016-06-28  1901.237  1914.307  1913.165  1892.912  4984852.50   \n",
       "2016-06-29  2016-06-29  1917.660  1925.447  1905.524  1895.088  4649836.50   \n",
       "2016-06-30  2016-06-30  1905.934  1910.048  1894.326  1888.861  3279508.75   \n",
       "2016-07-01  2016-07-01  1900.104  1925.546  1902.795  1897.357  3855875.75   \n",
       "2016-07-04  2016-07-04  1895.115  1983.733  1976.896  1895.115  8683355.00   \n",
       "2016-07-05  2016-07-05  1975.131  1999.930  1977.776  1971.199  7763355.50   \n",
       "2016-07-06  2016-07-06  1969.343  1998.659  1989.411  1954.152  5639803.00   \n",
       "2016-07-07  2016-07-07  1986.503  2026.332  2003.668  1984.266  7653180.50   \n",
       "2016-07-08  2016-07-08  1993.537  1995.319  1973.734  1968.748  4850926.00   \n",
       "\n",
       "           price_change p_change        ma5       ma10       ma20  \\\n",
       "2016-06-27       65.239     3.52  1,917.228  1,917.228  1,917.228   \n",
       "2016-06-28       -4.063    -0.21  1,915.197  1,915.197  1,915.197   \n",
       "2016-06-29       -7.641    -0.40  1,911.972  1,911.972  1,911.972   \n",
       "2016-06-30      -11.198    -0.59  1,907.561  1,907.561  1,907.561   \n",
       "2016-07-01        8.469     0.45  1,906.608  1,906.608  1,906.608   \n",
       "2016-07-04       74.101     3.89  1,918.541  1,918.322  1,918.322   \n",
       "2016-07-05        0.880     0.04  1,931.463  1,926.816  1,926.816   \n",
       "2016-07-06       11.635     0.59  1,948.241  1,934.640  1,934.640   \n",
       "2016-07-07       14.257     0.72  1,970.109  1,942.310  1,942.310   \n",
       "2016-07-08      -29.934    -1.49  1,984.297  1,945.452  1,945.452   \n",
       "\n",
       "                   v_ma5        v_ma10        v_ma20  \n",
       "2016-06-27  7,567,979.00  7,567,979.00  7,567,979.00  \n",
       "2016-06-28  6,276,415.75  6,276,415.75  6,276,415.75  \n",
       "2016-06-29  5,734,222.67  5,734,222.67  5,734,222.67  \n",
       "2016-06-30  5,120,544.19  5,120,544.19  5,120,544.19  \n",
       "2016-07-01  4,867,610.50  4,867,610.50  4,867,610.50  \n",
       "2016-07-04  5,090,685.70  5,503,567.92  5,503,567.92  \n",
       "2016-07-05  5,646,386.30  5,826,394.71  5,826,394.71  \n",
       "2016-07-06  5,844,379.60  5,803,070.75  5,803,070.75  \n",
       "2016-07-07  6,719,113.95  6,008,638.50  6,008,638.50  \n",
       "2016-07-08  6,918,124.00  5,892,867.25  5,892,867.25  "
      ]
     },
     "execution_count": 46,
     "metadata": {},
     "output_type": "execute_result"
    }
   ],
   "source": [
    "import urllib3\n",
    "import json\n",
    "import pandas as pd\n",
    "from urllib3 import PoolManager\n",
    "http = PoolManager()\n",
    "resp = http.request(\"GET\", \"http://api.finance.ifeng.com/akdaily?code=sz399990&type=last\")\n",
    "record = json.loads(resp.data)\n",
    "col = ['date', 'open', 'high', 'close', 'low', 'volume', 'price_change', 'p_change','ma5', 'ma10', 'ma20', 'v_ma5', 'v_ma10', 'v_ma20']\n",
    "df = pd.DataFrame(record['record'], columns=col)\n",
    "df.index = df.date.values\n",
    "df\n",
    "df.head(10)\n",
    "#df.loc['2016-06-27':'2016-06-27']"
   ]
  },
  {
   "cell_type": "code",
   "execution_count": 48,
   "metadata": {},
   "outputs": [
    {
     "data": {
      "text/plain": [
       "[1, 8, 2, 23, 7, -4, 18, 23, 42, 37, 2]"
      ]
     },
     "execution_count": 48,
     "metadata": {},
     "output_type": "execute_result"
    }
   ],
   "source": [
    "import heapq\n",
    "nums = [1, 8, 2, 23, 7, -4, 18, 23, 42, 37, 2]\n",
    "heap = list(nums)\n",
    "heap"
   ]
  },
  {
   "cell_type": "code",
   "execution_count": 49,
   "metadata": {},
   "outputs": [
    {
     "data": {
      "text/plain": [
       "[-4, 2, 1, 23, 7, 2, 18, 23, 42, 37, 8]"
      ]
     },
     "execution_count": 49,
     "metadata": {},
     "output_type": "execute_result"
    }
   ],
   "source": [
    "heapq.heapify(heap)\n",
    "heap"
   ]
  },
  {
   "cell_type": "code",
   "execution_count": 51,
   "metadata": {},
   "outputs": [
    {
     "data": {
      "text/plain": [
       "(45.25, 'AAA')"
      ]
     },
     "execution_count": 51,
     "metadata": {},
     "output_type": "execute_result"
    }
   ],
   "source": [
    "prices = { 'AAA' : 45.25, 'ZZZ': 45.23 }\n",
    "max(zip(prices.values(), prices.keys()))"
   ]
  },
  {
   "cell_type": "code",
   "execution_count": 56,
   "metadata": {},
   "outputs": [
    {
     "data": {
      "text/plain": [
       "{('a', 1), ('w', 10), ('x', 11)}"
      ]
     },
     "execution_count": 56,
     "metadata": {},
     "output_type": "execute_result"
    }
   ],
   "source": [
    "a = {\n",
    "    'x' : 1,\n",
    "    'y' : 2,\n",
    "    'z' : 3\n",
    "}\n",
    "\n",
    "b = {\n",
    "    'w' : 10,\n",
    "    'x' : 11,\n",
    "    'y' : 2,\n",
    "    'a' : 1\n",
    "}\n",
    "\n",
    "b.items() - a.items()"
   ]
  },
  {
   "cell_type": "code",
   "execution_count": 82,
   "metadata": {},
   "outputs": [
    {
     "name": "stderr",
     "output_type": "stream",
     "text": [
      "add||arg=(2, 3)||kwarg={}||ret=5\n"
     ]
    },
    {
     "data": {
      "text/plain": [
       "5"
      ]
     },
     "execution_count": 82,
     "metadata": {},
     "output_type": "execute_result"
    }
   ],
   "source": [
    "from functools import wraps \n",
    "import logging\n",
    "\n",
    "def log(level, tag=None, msg=None): \n",
    "    \n",
    "    def decorate(func): \n",
    "        msgtag = tag if tag else func.__module__ \n",
    "        logger = logging.getLogger(msgtag) \n",
    "        funcname = msg if msg else func.__name__\n",
    "        #logger.log(level, funcname)\n",
    "        @wraps(func)\n",
    "        def wrapper(*args, **kwargs):\n",
    "            res = func(*args, **kwargs)\n",
    "            logmsg = funcname + \"||arg={}||kwarg={}||ret={}\".format(args, kwargs, res)\n",
    "            logger.log(level, logmsg)\n",
    "            return res\n",
    "        return wrapper\n",
    "    return decorate\n",
    "\n",
    "@log(logging.WARNING) \n",
    "def add(x, y): \n",
    "    return x+y\n",
    "#test add\n",
    "add(2,3)"
   ]
  },
  {
   "cell_type": "code",
   "execution_count": 85,
   "metadata": {},
   "outputs": [
    {
     "name": "stderr",
     "output_type": "stream",
     "text": [
      "httprequest||arg=('GET', 'http://common.rdtest.didichuxing.com/rd/passenger/getprofile')||kwarg={}||ret=(200, b'{\"errno\":2,\"errmsg\":\"\\\\u597d\\\\u50cf\\\\u51fa\\\\u9519\\\\u4e86~\\\\u518d\\\\u8bd5\\\\u4e00\\\\u6b21\\\\uff1f\",\"traceid\":\"0ab317295c2caa23449b43da0304ec02\"}')\n"
     ]
    },
    {
     "data": {
      "text/plain": [
       "(200,\n",
       " b'{\"errno\":2,\"errmsg\":\"\\\\u597d\\\\u50cf\\\\u51fa\\\\u9519\\\\u4e86~\\\\u518d\\\\u8bd5\\\\u4e00\\\\u6b21\\\\uff1f\",\"traceid\":\"0ab317295c2caa23449b43da0304ec02\"}')"
      ]
     },
     "execution_count": 85,
     "metadata": {},
     "output_type": "execute_result"
    }
   ],
   "source": [
    "from urllib3 import PoolManager\n",
    "\n",
    "@log(logging.INFO, tag=\"_com_http\")\n",
    "def httpclient(method, url):\n",
    "    http = PoolManager()\n",
    "    resp = http.request(method, url)\n",
    "    return resp.status, resp.data\n",
    "\n",
    "#test httpre\n",
    "url = \"http://common.rdtest.didichuxing.com/rd/passenger/getprofile\"\n",
    "param = \n",
    "httprequest(\"GET\", url)"
   ]
  },
  {
   "cell_type": "code",
   "execution_count": 86,
   "metadata": {},
   "outputs": [
    {
     "ename": "FileNotFoundError",
     "evalue": "[Errno 2] No such file or directory: 'data.csv'",
     "output_type": "error",
     "traceback": [
      "\u001b[0;31m---------------------------------------------------------------------------\u001b[0m",
      "\u001b[0;31mFileNotFoundError\u001b[0m                         Traceback (most recent call last)",
      "\u001b[0;32m<ipython-input-86-b145a9a233de>\u001b[0m in \u001b[0;36m<module>\u001b[0;34m\u001b[0m\n\u001b[1;32m      1\u001b[0m \u001b[0;32mimport\u001b[0m \u001b[0mrequests\u001b[0m\u001b[0;34m\u001b[0m\u001b[0;34m\u001b[0m\u001b[0m\n\u001b[1;32m      2\u001b[0m \u001b[0murl\u001b[0m \u001b[0;34m=\u001b[0m \u001b[0;34m'http://httpbin.org/post'\u001b[0m\u001b[0;34m\u001b[0m\u001b[0;34m\u001b[0m\u001b[0m\n\u001b[0;32m----> 3\u001b[0;31m \u001b[0mfiles\u001b[0m \u001b[0;34m=\u001b[0m \u001b[0;34m{\u001b[0m \u001b[0;34m'file'\u001b[0m\u001b[0;34m:\u001b[0m \u001b[0;34m(\u001b[0m\u001b[0;34m'data.csv'\u001b[0m\u001b[0;34m,\u001b[0m \u001b[0mopen\u001b[0m\u001b[0;34m(\u001b[0m\u001b[0;34m'data.csv'\u001b[0m\u001b[0;34m,\u001b[0m \u001b[0;34m'rb'\u001b[0m\u001b[0;34m)\u001b[0m\u001b[0;34m)\u001b[0m \u001b[0;34m}\u001b[0m\u001b[0;34m\u001b[0m\u001b[0;34m\u001b[0m\u001b[0m\n\u001b[0m\u001b[1;32m      4\u001b[0m \u001b[0;34m\u001b[0m\u001b[0m\n\u001b[1;32m      5\u001b[0m \u001b[0mr\u001b[0m \u001b[0;34m=\u001b[0m \u001b[0mrequests\u001b[0m\u001b[0;34m.\u001b[0m\u001b[0mpost\u001b[0m\u001b[0;34m(\u001b[0m\u001b[0murl\u001b[0m\u001b[0;34m,\u001b[0m \u001b[0mfiles\u001b[0m\u001b[0;34m=\u001b[0m\u001b[0mfiles\u001b[0m\u001b[0;34m)\u001b[0m\u001b[0;34m\u001b[0m\u001b[0;34m\u001b[0m\u001b[0m\n",
      "\u001b[0;31mFileNotFoundError\u001b[0m: [Errno 2] No such file or directory: 'data.csv'"
     ]
    }
   ],
   "source": [
    "import requests\n",
    "url = 'http://httpbin.org/post'\n",
    "files = { 'file': ('data.csv', open('data.csv', 'rb')) }\n",
    "\n",
    "r = requests.post(url, files=files)"
   ]
  },
  {
   "cell_type": "code",
   "execution_count": 100,
   "metadata": {},
   "outputs": [
    {
     "data": {
      "text/plain": [
       "['127.34.56.32',\n",
       " '127.34.56.33',\n",
       " '127.34.56.34',\n",
       " '127.34.56.35',\n",
       " '127.34.56.36',\n",
       " '127.34.56.37',\n",
       " '127.34.56.38',\n",
       " '127.34.56.39',\n",
       " '127.34.56.40',\n",
       " '127.34.56.41',\n",
       " '127.34.56.42',\n",
       " '127.34.56.43',\n",
       " '127.34.56.44',\n",
       " '127.34.56.45',\n",
       " '127.34.56.46',\n",
       " '127.34.56.47',\n",
       " '127.34.56.48',\n",
       " '127.34.56.49',\n",
       " '127.34.56.50',\n",
       " '127.34.56.51',\n",
       " '127.34.56.52',\n",
       " '127.34.56.53',\n",
       " '127.34.56.54',\n",
       " '127.34.56.55',\n",
       " '127.34.56.56',\n",
       " '127.34.56.57',\n",
       " '127.34.56.58',\n",
       " '127.34.56.59',\n",
       " '127.34.56.60',\n",
       " '127.34.56.61',\n",
       " '127.34.56.62',\n",
       " '127.34.56.63']"
      ]
     },
     "execution_count": 100,
     "metadata": {},
     "output_type": "execute_result"
    }
   ],
   "source": [
    "import ipaddress\n",
    "net = ipaddress.ip_network('127.34.56.32/27')\n",
    "ip = [str(ip) for ip in net]\n",
    "ip"
   ]
  },
  {
   "cell_type": "code",
   "execution_count": null,
   "metadata": {},
   "outputs": [],
   "source": [
    "import getpass\n",
    "user = input(\"username\")\n"
   ]
  },
  {
   "cell_type": "code",
   "execution_count": 116,
   "metadata": {},
   "outputs": [
    {
     "name": "stdout",
     "output_type": "stream",
     "text": [
      "./3-滑点策略与交易手续费(ABU量化使用文档).ipynb\n",
      "./14-量化相关性分析应用(ABU量化使用文档).ipynb\n",
      "./24-比特币vs黄金,莱特币vs白银(ABU量化使用文档).ipynb\n",
      "./18-自定义裁判决策交易(ABU量化使用文档).ipynb\n",
      "./7-寻找策略最优参数和评分(ABU量化使用文档).ipynb\n",
      "./11-期货市场的回测(ABU量化使用文档).ipynb\n",
      "./0-abupy量化环境部署(ABU量化使用文档).ipynb\n",
      "./16-UMP主裁交易决策(ABU量化使用文档).ipynb\n",
      "./27-狗股选股策略与择时策略的配合.ipynb\n",
      "./21-A股UMP决策(ABU量化使用文档).ipynb\n",
      "./9-港股市场的回测(ABU量化使用文档).ipynb\n",
      "./ python-cookbook.ipynb\n",
      "./22-美股全市场回测(ABU量化使用文档).ipynb\n",
      "./28-真 • 动态自适应双均线策略.ipynb\n",
      "./10-比特币莱特币的回测(ABU量化使用文档).ipynb\n",
      "./31-资金仓位管理与买入策略的搭配.ipynb\n",
      "./15-量化交易和搜索引擎(ABU量化使用文档).ipynb\n",
      "./30-趋势跟踪与均值回复的长短线搭配.ipynb\n",
      "image\n",
      "./image/ump_trade.png\n",
      "./image/abu_logo.png\n",
      "./image/pig3.png\n",
      "./image/ump.png\n",
      "./image/save_cv.png\n",
      "./image/1.2.png\n",
      "./image/3.1.png\n",
      "./image/qrcode.jpg\n",
      "./image/1.3.png\n",
      "./image/1.1.png\n",
      "./image/st_mod.png\n",
      "./image/gg.jpg\n",
      "./image/run_ui.png\n",
      "./image/du_trend.png\n",
      "./image/mmm.png\n",
      "./image/g_trend.png\n",
      "./image/pos_trend.png\n",
      "./image/zsg.jpg\n",
      "./image/f_trend.png\n",
      "./8-A股市场的回测(ABU量化使用文档).ipynb\n",
      "./排序.ipynb\n",
      "./19-数据源(ABU量化使用文档).ipynb\n",
      "./6-回测结果的度量(ABU量化使用文档).ipynb\n",
      "./2-择时策略的优化(ABU量化使用文档).ipynb\n",
      "./29-多因子策略并行执行配合.ipynb\n",
      "./13-量化技术分析应用(ABU量化使用文档).ipynb\n",
      "./4-多支股票择时回测与仓位管理(ABU量化使用文档).ipynb\n",
      ".ipynb_checkpoints\n",
      "./.ipynb_checkpoints/1-择时策略的开发(ABU量化使用文档)-checkpoint.ipynb\n",
      "./.ipynb_checkpoints/5-选股策略的开发(ABU量化使用文档)-checkpoint.ipynb\n",
      "./.ipynb_checkpoints/2-择时策略的优化(ABU量化使用文档)-checkpoint.ipynb\n",
      "./.ipynb_checkpoints/3-滑点策略与交易手续费(ABU量化使用文档)-checkpoint.ipynb\n",
      "./.ipynb_checkpoints/4-多支股票择时回测与仓位管理(ABU量化使用文档)-checkpoint.ipynb\n",
      "./.ipynb_checkpoints/25-期货市场内外盘低频统计套利-checkpoint.ipynb\n",
      "./.ipynb_checkpoints/排序-checkpoint.ipynb\n",
      "./.ipynb_checkpoints/ python-cookbook-checkpoint.ipynb\n",
      "./26-星期几是这个股票的好日子.ipynb\n",
      "./23-美股UMP决策(ABU量化使用文档).ipynb\n",
      "./12-机器学习与比特币示例(ABU量化使用文档).ipynb\n",
      "./1-择时策略的开发(ABU量化使用文档).ipynb\n",
      "./5-选股策略的开发(ABU量化使用文档).ipynb\n",
      "./graphviz.png\n",
      "./32-策略有效性的验证.ipynb\n",
      "./17-UMP边裁交易决策(ABU量化使用文档).ipynb\n",
      "./20-A股全市场回测(ABU量化使用文档).ipynb\n",
      "./25-期货市场内外盘低频统计套利.ipynb\n"
     ]
    }
   ],
   "source": [
    "import os \n",
    "\n",
    "def print_dir_content(path):\n",
    "    for schild in os.listdir(path):\n",
    "        sChildPath = os.path.join(path,schild)\n",
    "        if os.path.isdir(sChildPath):\n",
    "            print(schild)\n",
    "            print_dir_content(sChildPath)\n",
    "        else:\n",
    "            print(sChildPath)\n",
    "\n",
    "print_dir_content(\".\")"
   ]
  },
  {
   "cell_type": "code",
   "execution_count": 115,
   "metadata": {},
   "outputs": [
    {
     "name": "stdout",
     "output_type": "stream",
     "text": [
      "{'a': 1, 'b': 2, 'c': 3, 'd': 4, 'e': 5}\n"
     ]
    },
    {
     "data": {
      "text/plain": [
       "[1, 2, 3, 4, 5]"
      ]
     },
     "execution_count": 115,
     "metadata": {},
     "output_type": "execute_result"
    }
   ],
   "source": [
    "A0 = dict(zip(('a','b','c','d','e'),(1,2,3,4,5)))\n",
    "print(A0)\n",
    "A3 = [v for v in A0.values()]\n",
    "A3\n"
   ]
  },
  {
   "cell_type": "code",
   "execution_count": 118,
   "metadata": {},
   "outputs": [
    {
     "name": "stdout",
     "output_type": "stream",
     "text": [
      "[0, 1]\n",
      "[3, 2, 1, 0, 1, 4]\n",
      "[0, 1, 0, 1, 4]\n"
     ]
    }
   ],
   "source": [
    "def f(x,l=[]):\n",
    "    for i in range(x):\n",
    "        l.append(i*i)\n",
    "    print(l)\n",
    "\n",
    "f(2)\n",
    "f(3,[3,2,1])\n",
    "f(3)"
   ]
  },
  {
   "cell_type": "code",
   "execution_count": 123,
   "metadata": {},
   "outputs": [
    {
     "data": {
      "text/plain": [
       "'1da3e447404a8f02457341bcca9bbf69'"
      ]
     },
     "execution_count": 123,
     "metadata": {},
     "output_type": "execute_result"
    }
   ],
   "source": [
    "import hashlib\n",
    "str = hashlib.md5(b'32rfdf43qdsc1wfgv45ygfvc21wfdbgf23efds').hexdigest()\n",
    "str"
   ]
  },
  {
   "cell_type": "code",
   "execution_count": 129,
   "metadata": {},
   "outputs": [
    {
     "data": {
      "text/plain": [
       "281474976710656"
      ]
     },
     "execution_count": 129,
     "metadata": {},
     "output_type": "execute_result"
    }
   ],
   "source": []
  },
  {
   "cell_type": "code",
   "execution_count": null,
   "metadata": {},
   "outputs": [],
   "source": []
  },
  {
   "cell_type": "code",
   "execution_count": null,
   "metadata": {},
   "outputs": [],
   "source": []
  }
 ],
 "metadata": {
  "kernelspec": {
   "display_name": "Python 3",
   "language": "python",
   "name": "python3"
  },
  "language_info": {
   "codemirror_mode": {
    "name": "ipython",
    "version": 3
   },
   "file_extension": ".py",
   "mimetype": "text/x-python",
   "name": "python",
   "nbconvert_exporter": "python",
   "pygments_lexer": "ipython3",
   "version": "3.7.1"
  }
 },
 "nbformat": 4,
 "nbformat_minor": 2
}
