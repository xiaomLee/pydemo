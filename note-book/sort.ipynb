{
 "cells": [
  {
   "cell_type": "code",
   "execution_count": null,
   "metadata": {},
   "outputs": [],
   "source": [
    "'参考 https://www.cnblogs.com/onepixel/p/7674659.html'"
   ]
  },
  {
   "cell_type": "code",
   "execution_count": 23,
   "metadata": {},
   "outputs": [
    {
     "name": "stdout",
     "output_type": "stream",
     "text": [
      "CPU times: user 11 µs, sys: 13 µs, total: 24 µs\n",
      "Wall time: 90.1 µs\n",
      "CPU times: user 5 µs, sys: 8 µs, total: 13 µs\n",
      "Wall time: 16.2 µs\n",
      "[1, 2, 1, 3, 5, 4, 8]\n",
      "[1, 1, 2, 3, 4, 5, 8]\n",
      "[1, 1, 2, 3, 4, 5, 8]\n",
      "[1, 1, 2, 3, 4, 5, 8]\n",
      "[1, 1, 2, 3, 4, 5, 8]\n",
      "[1, 1, 2, 3, 4, 5, 8]\n"
     ]
    },
    {
     "data": {
      "text/plain": [
       "[1, 1, 2, 3, 4, 5, 8]"
      ]
     },
     "execution_count": 23,
     "metadata": {},
     "output_type": "execute_result"
    }
   ],
   "source": [
    "'''\n",
    "比较相邻的元素。如果第一个比第二个大，就交换它们两个；\n",
    "对每一对相邻元素作同样的工作，从开始第一对到结尾的最后一对，这样在最后的元素应该会是最大的数；\n",
    "针对所有的元素重复以上的步骤，除了最后一个；\n",
    "重复步骤1~3，直到排序完成\n",
    "'''\n",
    "%time\n",
    "def BubbleSort(arr):\n",
    "    l = len(arr)\n",
    "    for i in range(l-1) :\n",
    "        for j in range(l-1-i) :\n",
    "            if arr[j] > arr[j+1] :\n",
    "                arr[j], arr[j+1] = arr[j+1], arr[j]\n",
    "        print(arr)\n",
    "    return arr\n",
    "a = [1,2,5,1,3,8,4]\n",
    "%time\n",
    "BubbleSort(a)"
   ]
  },
  {
   "cell_type": "code",
   "execution_count": 13,
   "metadata": {},
   "outputs": [
    {
     "name": "stdout",
     "output_type": "stream",
     "text": [
      "CPU times: user 2 µs, sys: 1 µs, total: 3 µs\n",
      "Wall time: 6.2 µs\n",
      "[1, 2, 4, 1, 3, 8, 5]\n",
      "[1, 1, 4, 2, 3, 8, 5]\n",
      "[1, 1, 2, 4, 3, 8, 5]\n",
      "[1, 1, 2, 3, 4, 8, 5]\n",
      "[1, 1, 2, 3, 4, 8, 5]\n",
      "[1, 1, 2, 3, 4, 5, 8]\n"
     ]
    },
    {
     "data": {
      "text/plain": [
       "[1, 1, 2, 3, 4, 5, 8]"
      ]
     },
     "execution_count": 13,
     "metadata": {},
     "output_type": "execute_result"
    }
   ],
   "source": [
    "'''\n",
    "初始状态：无序区为R[1..n]，有序区为空；\n",
    "第i趟排序(i=1,2,3…n-1)开始时，当前有序区和无序区分别为R[1..i-1]和R(i..n）。该趟排序从当前无序区中-选出关键字最小的记录 R[k]，\n",
    "将它与无序区的第1个记录R交换，使R[1..i]和R[i+1..n)分别变为记录个数增加1个的新有序区和记录个数减少1个的新无序区；\n",
    "n-1趟结束，数组有序化了。\n",
    "'''\n",
    "def SelectionSort(arr):\n",
    "    for i in range(len(arr)-1):\n",
    "        minidx = i\n",
    "        for j in range(i+1, len(arr)):\n",
    "            if arr[j] < arr[minidx]:\n",
    "                minidx = j\n",
    "        arr[i], arr[minidx] = arr[minidx], arr[i]\n",
    "        print(arr)\n",
    "    return arr\n",
    "\n",
    "a = [1,2,4,1,3,8,5]\n",
    "%time\n",
    "SelectionSort(a)"
   ]
  },
  {
   "cell_type": "code",
   "execution_count": 22,
   "metadata": {},
   "outputs": [
    {
     "name": "stdout",
     "output_type": "stream",
     "text": [
      "CPU times: user 4 µs, sys: 1 µs, total: 5 µs\n",
      "Wall time: 10 µs\n",
      "[2, 2, 4, 1, 3, 8, 5]\n",
      "[2, 4, 4, 4, 3, 8, 5]\n",
      "[2, 4, 4, 4, 4, 8, 5]\n",
      "[2, 4, 4, 4, 4, 4, 5]\n",
      "[2, 4, 4, 4, 4, 4, 4]\n"
     ]
    },
    {
     "ename": "IndexError",
     "evalue": "list assignment index out of range",
     "output_type": "error",
     "traceback": [
      "\u001b[0;31m---------------------------------------------------------------------------\u001b[0m",
      "\u001b[0;31mIndexError\u001b[0m                                Traceback (most recent call last)",
      "\u001b[0;32m<ipython-input-22-bf98400a566e>\u001b[0m in \u001b[0;36m<module>\u001b[0;34m\u001b[0m\n\u001b[1;32m     18\u001b[0m \u001b[0ma\u001b[0m \u001b[0;34m=\u001b[0m \u001b[0;34m[\u001b[0m\u001b[0;36m1\u001b[0m\u001b[0;34m,\u001b[0m\u001b[0;36m2\u001b[0m\u001b[0;34m,\u001b[0m\u001b[0;36m4\u001b[0m\u001b[0;34m,\u001b[0m\u001b[0;36m1\u001b[0m\u001b[0;34m,\u001b[0m\u001b[0;36m3\u001b[0m\u001b[0;34m,\u001b[0m\u001b[0;36m8\u001b[0m\u001b[0;34m,\u001b[0m\u001b[0;36m5\u001b[0m\u001b[0;34m]\u001b[0m\u001b[0;34m\u001b[0m\u001b[0;34m\u001b[0m\u001b[0m\n\u001b[1;32m     19\u001b[0m \u001b[0mget_ipython\u001b[0m\u001b[0;34m(\u001b[0m\u001b[0;34m)\u001b[0m\u001b[0;34m.\u001b[0m\u001b[0mrun_line_magic\u001b[0m\u001b[0;34m(\u001b[0m\u001b[0;34m'time'\u001b[0m\u001b[0;34m,\u001b[0m \u001b[0;34m''\u001b[0m\u001b[0;34m)\u001b[0m\u001b[0;34m\u001b[0m\u001b[0;34m\u001b[0m\u001b[0m\n\u001b[0;32m---> 20\u001b[0;31m \u001b[0mInsertionSort\u001b[0m\u001b[0;34m(\u001b[0m\u001b[0ma\u001b[0m\u001b[0;34m)\u001b[0m\u001b[0;34m\u001b[0m\u001b[0;34m\u001b[0m\u001b[0m\n\u001b[0m",
      "\u001b[0;32m<ipython-input-22-bf98400a566e>\u001b[0m in \u001b[0;36mInsertionSort\u001b[0;34m(arr)\u001b[0m\n\u001b[1;32m     11\u001b[0m             \u001b[0;32mif\u001b[0m \u001b[0mcurrent\u001b[0m \u001b[0;34m>\u001b[0m \u001b[0marr\u001b[0m\u001b[0;34m[\u001b[0m\u001b[0mi\u001b[0m\u001b[0;34m-\u001b[0m\u001b[0mj\u001b[0m\u001b[0;34m]\u001b[0m \u001b[0;34m:\u001b[0m\u001b[0;34m\u001b[0m\u001b[0;34m\u001b[0m\u001b[0m\n\u001b[1;32m     12\u001b[0m                 \u001b[0;32mbreak\u001b[0m\u001b[0;34m\u001b[0m\u001b[0;34m\u001b[0m\u001b[0m\n\u001b[0;32m---> 13\u001b[0;31m             \u001b[0marr\u001b[0m\u001b[0;34m[\u001b[0m\u001b[0mi\u001b[0m\u001b[0;34m-\u001b[0m\u001b[0mj\u001b[0m\u001b[0;34m+\u001b[0m\u001b[0;36m1\u001b[0m\u001b[0;34m]\u001b[0m \u001b[0;34m=\u001b[0m \u001b[0marr\u001b[0m\u001b[0;34m[\u001b[0m\u001b[0mi\u001b[0m\u001b[0;34m-\u001b[0m\u001b[0mj\u001b[0m\u001b[0;34m]\u001b[0m\u001b[0;34m\u001b[0m\u001b[0;34m\u001b[0m\u001b[0m\n\u001b[0m\u001b[1;32m     14\u001b[0m             \u001b[0mindex\u001b[0m \u001b[0;34m=\u001b[0m \u001b[0mj\u001b[0m\u001b[0;34m\u001b[0m\u001b[0;34m\u001b[0m\u001b[0m\n\u001b[1;32m     15\u001b[0m         \u001b[0marr\u001b[0m\u001b[0;34m[\u001b[0m\u001b[0mi\u001b[0m\u001b[0;34m-\u001b[0m\u001b[0mindex\u001b[0m\u001b[0;34m-\u001b[0m\u001b[0;36m1\u001b[0m\u001b[0;34m]\u001b[0m \u001b[0;34m=\u001b[0m \u001b[0mcurrent\u001b[0m\u001b[0;34m\u001b[0m\u001b[0;34m\u001b[0m\u001b[0m\n",
      "\u001b[0;31mIndexError\u001b[0m: list assignment index out of range"
     ]
    }
   ],
   "source": [
    "'''\n",
    "插入排序\n",
    "插入排序（Insertion-Sort）的算法描述是一种简单直观的排序算法。\n",
    "它的工作原理是通过构建有序序列，对于未排序数据，在已排序序列中从后向前扫描，找到相应位置并插入。\n",
    "'''\n",
    "def InsertionSort(arr):\n",
    "    for i in range(1, len(arr)):\n",
    "        current = arr[i]\n",
    "        index = 0\n",
    "        for j in range(i):\n",
    "            if current > arr[i-j]:\n",
    "                break\n",
    "            arr[i-j+1] = arr[i-j]\n",
    "            index = j\n",
    "        arr[i-index-1] = current\n",
    "        print(arr)\n",
    "    return arr\n",
    "a = [1,2,4,1,3,8,5]\n",
    "%time\n",
    "InsertionSort(a)"
   ]
  },
  {
   "cell_type": "code",
   "execution_count": 55,
   "metadata": {},
   "outputs": [
    {
     "name": "stdout",
     "output_type": "stream",
     "text": [
      "CPU times: user 2 µs, sys: 0 ns, total: 2 µs\n",
      "Wall time: 5.96 µs\n",
      "left: 0 right: 11 mid: 8 arr: [2, 4, 1, 3, 8, 5, 6, 7, 9, 10, 11, 12]\n",
      "left: 0 right: 7 mid: 1 arr: [1, 2, 4, 3, 8, 5, 6, 7, 9, 10, 11, 12]\n",
      "left: 0 right: 0 mid: 0 arr: [1, 2, 4, 3, 8, 5, 6, 7, 9, 10, 11, 12]\n",
      "left: 2 right: 7 mid: 3 arr: [1, 2, 3, 4, 8, 5, 6, 7, 9, 10, 11, 12]\n",
      "left: 2 right: 2 mid: 2 arr: [1, 2, 3, 4, 8, 5, 6, 7, 9, 10, 11, 12]\n",
      "left: 4 right: 7 mid: 6 arr: [1, 2, 3, 4, 5, 6, 8, 7, 9, 10, 11, 12]\n",
      "left: 4 right: 5 mid: 4 arr: [1, 2, 3, 4, 5, 6, 8, 7, 9, 10, 11, 12]\n",
      "left: 5 right: 5 mid: 5 arr: [1, 2, 3, 4, 5, 6, 8, 7, 9, 10, 11, 12]\n",
      "left: 7 right: 7 mid: 7 arr: [1, 2, 3, 4, 5, 6, 8, 7, 9, 10, 11, 12]\n",
      "left: 9 right: 11 mid: 9 arr: [1, 2, 3, 4, 5, 6, 8, 7, 9, 10, 11, 12]\n",
      "left: 10 right: 11 mid: 10 arr: [1, 2, 3, 4, 5, 6, 8, 7, 9, 10, 11, 12]\n",
      "left: 11 right: 11 mid: 11 arr: [1, 2, 3, 4, 5, 6, 8, 7, 9, 10, 11, 12]\n"
     ]
    },
    {
     "data": {
      "text/plain": [
       "[1, 2, 3, 4, 5, 6, 8, 7, 9, 10, 11, 12]"
      ]
     },
     "execution_count": 55,
     "metadata": {},
     "output_type": "execute_result"
    }
   ],
   "source": [
    "'''\n",
    "快速排序\n",
    "随机选择一个数（通常是第一个），将比它小的放左边、比它大的放右边\n",
    "递归对两个序列分别重复上述排序\n",
    "'''\n",
    "def QuickSort(arr, left, right):\n",
    "    if left > right:\n",
    "        return\n",
    "    mid = left\n",
    "    tmp = arr[left]\n",
    "    for i in range(left+1, right):\n",
    "        if arr[i] < tmp:\n",
    "            arr[mid] = arr[i]\n",
    "            arr[i] = arr[mid+1]\n",
    "            mid+=1\n",
    "    arr[mid] = tmp\n",
    "    print(\"left:\", left, \"right:\",right, \"mid:\", mid, \"arr:\", arr)\n",
    "    QuickSort(arr, left, mid-1)\n",
    "    QuickSort(arr, mid+1, right)\n",
    "    \n",
    "a = [9,11,2,4,1,3,8,5,6,10,7,12]\n",
    "%time\n",
    "QuickSort(a, 0, len(a)-1)\n",
    "a"
   ]
  },
  {
   "cell_type": "code",
   "execution_count": null,
   "metadata": {},
   "outputs": [],
   "source": []
  },
  {
   "cell_type": "code",
   "execution_count": null,
   "metadata": {},
   "outputs": [],
   "source": []
  }
 ],
 "metadata": {
  "kernelspec": {
   "display_name": "Python 3",
   "language": "python",
   "name": "python3"
  },
  "language_info": {
   "codemirror_mode": {
    "name": "ipython",
    "version": 3
   },
   "file_extension": ".py",
   "mimetype": "text/x-python",
   "name": "python",
   "nbconvert_exporter": "python",
   "pygments_lexer": "ipython3",
   "version": "3.7.1"
  }
 },
 "nbformat": 4,
 "nbformat_minor": 2
}
